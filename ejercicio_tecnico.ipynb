{
 "cells": [
  {
   "cell_type": "code",
   "execution_count": 37,
   "metadata": {},
   "outputs": [],
   "source": [
    "import os\n",
    "import openai\n",
    "import pandas as pd\n",
    "from tqdm.auto import tqdm"
   ]
  },
  {
   "cell_type": "code",
   "execution_count": 45,
   "metadata": {},
   "outputs": [],
   "source": [
    "# Ruta de la carpeta corpus que contiene todos los archivos CSV de las 640 llamadas\n",
    "ruta_corpus = \"ejercicio/corpus\""
   ]
  },
  {
   "cell_type": "code",
   "execution_count": 39,
   "metadata": {},
   "outputs": [],
   "source": [
    "# Configuración de OpenAI api_key\n",
    "api_key = \"tu_api_key\"  # Reemplaza \"tu_api_key\" con tu propia API key\n",
    "openai.api_key = api_key"
   ]
  },
  {
   "cell_type": "code",
   "execution_count": 46,
   "metadata": {},
   "outputs": [
    {
     "name": "stdout",
     "output_type": "stream",
     "text": [
      "Contenido del DataFrame consolidado\n",
      "     Numero_Llamada                                       Conversacion\n",
      "0                 0   Hola , mi nombre es Valeria . Disculpe , no e...\n",
      "1                 1   Buenas tardes . punto Mi nombre es José Gutié...\n",
      "2                 2   Hola . Buenas tardes . Habla con María Azcára...\n",
      "3                 3   Buenas tardes , Francisco Moreno . , que mire...\n",
      "4                 4   al final . Hola , buenas tardes con Karen . M...\n",
      "..              ...                                                ...\n",
      "635             635   barba . Buenas tardes . . tengo una consulta ...\n",
      "636             636   Hola . Buenos días . Mi nombre es Paola . Le ...\n",
      "637             637   Buenas tardes . Bienvenido . . mi nombre es E...\n",
      "638             638   . Mira , tengo una pura . Es una compra onlin...\n",
      "639             639   Buenas tardes . Bienvenida . Mi nombre es Edu...\n",
      "\n",
      "[640 rows x 2 columns]\n"
     ]
    }
   ],
   "source": [
    "# CARGA Y LIMPIEZA DE CONVERSACIONES\n",
    "\n",
    "# Crea lista para almacenar el contenido de cada archivo CSV\n",
    "dataframes_consolidados = []\n",
    "\n",
    "# Itera sobre todos los archivos CSV en la carpeta del corpus\n",
    "for i, archivo_csv in enumerate(os.listdir(ruta_corpus)):\n",
    "    if archivo_csv.endswith('.csv'):\n",
    "        ruta_completa = os.path.join(ruta_corpus, archivo_csv)\n",
    "\n",
    "        # Lee el contenido del archivo CSV como texto\n",
    "        with open(ruta_completa, 'r', encoding='utf-8') as file:\n",
    "            contenido_csv = file.read()\n",
    "\n",
    "        # Elimina \"Pregunta\\n\" de cada fila\n",
    "        contenido_csv_sin_pregunta = contenido_csv.replace('Pregunta\\n', '')\n",
    "\n",
    "        # Agrega el contenido del CSV al DataFrame consolidado junto con el número de la llamada\n",
    "        dataframes_consolidados.append({'Numero_Llamada': i, 'Conversacion': contenido_csv_sin_pregunta})\n",
    "\n",
    "# Crea un DataFrame consolidado\n",
    "df_consolidado = pd.DataFrame(dataframes_consolidados)\n",
    "\n",
    "# Visualiza el DataFrame consolidado\n",
    "print(\"Contenido del DataFrame consolidado\")\n",
    "print(df_consolidado)"
   ]
  },
  {
   "cell_type": "code",
   "execution_count": 47,
   "metadata": {},
   "outputs": [
    {
     "name": "stdout",
     "output_type": "stream",
     "text": [
      "PROCESANDO CONVERSACIONES DE A LOTES DE A 5 HASTA LA CONVERSACIÓN NÚMERO 10\n",
      "\n"
     ]
    },
    {
     "name": "stderr",
     "output_type": "stream",
     "text": [
      "  0%|          | 0/2 [00:00<?, ?it/s]"
     ]
    },
    {
     "name": "stderr",
     "output_type": "stream",
     "text": [
      " 50%|█████     | 1/2 [00:06<00:06,  6.30s/it]"
     ]
    },
    {
     "name": "stdout",
     "output_type": "stream",
     "text": [
      "Llamada: 0, Tópico conversación: El tópico predominante en la conversación es el problema con la entrega de un pedido de alimentos, incluyendo la pérdida de la cadena de frío, la mala calidad de los productos recibidos y la necesidad de contactar al proveedor para resolver la situación.\n",
      "Llamada: 1, Tópico conversación: La conversación parece estar relacionada con un pedido que no ha sido entregado a tiempo. El cliente expresa su preocupación por la falta de información sobre el estado de su pedido y la liberación del monto en su tarjeta. El agente tranquiliza al cliente asegurándole que el pedido será despachado en los próximos minutos. El tópico predominante de esta conversación es el seguimiento de un pedido.\n",
      "Llamada: 2, Tópico conversación: Basándome en la conversación proporcionada, el tópico predominante es la consulta sobre el estado de un despacho o envío.\n",
      "Llamada: 3, Tópico conversación: La conversación parece estar relacionada con un problema de entrega de pedidos, donde el cliente está tratando de comunicar su situación y obtener una respuesta sobre el estado de sus pedidos. El tópico predominante de esta conversación parece ser la gestión de pedidos y la resolución de problemas de entrega.\n",
      "Llamada: 4, Tópico conversación: La conversación parece estar relacionada con una consulta sobre el precio de una máquina para hacer arepas. El cliente menciona que vio un precio de veinte mil pesos en un lugar y treinta y cinco mil en otro, además de mencionar una oferta y una promoción. El agente intenta corroborar el precio y la dirección de retiro. El tópico predominante de esta conversación parece ser la consulta sobre el precio y las condiciones de compra de la máquina para hacer arepas.\n"
     ]
    },
    {
     "name": "stderr",
     "output_type": "stream",
     "text": [
      "100%|██████████| 2/2 [00:13<00:00,  6.96s/it]"
     ]
    },
    {
     "name": "stdout",
     "output_type": "stream",
     "text": [
      "Llamada: 5, Tópico conversación: La conversación parece estar relacionada con un problema en un pedido de productos de alimentación, específicamente con la entrega de caldos bajos en sodio en lugar de sopas. La cliente expresa su confusión y la necesidad de resolver el error en el pedido. El agente ofrece su ayuda para encontrar una solución. El tópico predominante de esta conversación es la gestión de pedidos y la resolución de problemas relacionados con la entrega de productos.\n",
      "Llamada: 6, Tópico conversación: La conversación parece estar relacionada con una compra de productos, en la que el cliente está reportando artículos faltantes en su pedido y también está consultando sobre la disponibilidad de otros productos. El agente parece estar buscando en el sistema la información sobre los productos faltantes y tratando de resolver la situación.\n",
      "Llamada: 7, Tópico conversación: Basándome en la conversación proporcionada, el tópico predominante parece ser una consulta sobre una compra por internet y la logística de entrega, posiblemente relacionada con un envío a una dirección específica.\n",
      "Llamada: 8, Tópico conversación: La conversación parece estar centrada en un reclamo sobre un pedido que no ha sido entregado correctamente. El cliente expresa su frustración por la falta de comunicación y la falta de solución a su problema. Parece estar molesto por la situación y busca una solución rápida y efectiva.\n",
      "Llamada: 9, Tópico conversación: El tópico predominante de la conversación es el seguimiento de un pedido y la insatisfacción del cliente con el tiempo de entrega y la discriminación en la entrega a su dirección.\n",
      "\n",
      "RESULTADOS LOTES\n",
      " [{'Numero de llamada': 0, 'Tópico conversación': 'El tópico predominante en la conversación es el problema con la entrega de un pedido de alimentos, incluyendo la pérdida de la cadena de frío, la mala calidad de los productos recibidos y la necesidad de contactar al proveedor para resolver la situación.'}, {'Numero de llamada': 1, 'Tópico conversación': 'La conversación parece estar relacionada con un pedido que no ha sido entregado a tiempo. El cliente expresa su preocupación por la falta de información sobre el estado de su pedido y la liberación del monto en su tarjeta. El agente tranquiliza al cliente asegurándole que el pedido será despachado en los próximos minutos. El tópico predominante de esta conversación es el seguimiento de un pedido.'}, {'Numero de llamada': 2, 'Tópico conversación': 'Basándome en la conversación proporcionada, el tópico predominante es la consulta sobre el estado de un despacho o envío.'}, {'Numero de llamada': 3, 'Tópico conversación': 'La conversación parece estar relacionada con un problema de entrega de pedidos, donde el cliente está tratando de comunicar su situación y obtener una respuesta sobre el estado de sus pedidos. El tópico predominante de esta conversación parece ser la gestión de pedidos y la resolución de problemas de entrega.'}, {'Numero de llamada': 4, 'Tópico conversación': 'La conversación parece estar relacionada con una consulta sobre el precio de una máquina para hacer arepas. El cliente menciona que vio un precio de veinte mil pesos en un lugar y treinta y cinco mil en otro, además de mencionar una oferta y una promoción. El agente intenta corroborar el precio y la dirección de retiro. El tópico predominante de esta conversación parece ser la consulta sobre el precio y las condiciones de compra de la máquina para hacer arepas.'}, {'Numero de llamada': 5, 'Tópico conversación': 'La conversación parece estar relacionada con un problema en un pedido de productos de alimentación, específicamente con la entrega de caldos bajos en sodio en lugar de sopas. La cliente expresa su confusión y la necesidad de resolver el error en el pedido. El agente ofrece su ayuda para encontrar una solución. El tópico predominante de esta conversación es la gestión de pedidos y la resolución de problemas relacionados con la entrega de productos.'}, {'Numero de llamada': 6, 'Tópico conversación': 'La conversación parece estar relacionada con una compra de productos, en la que el cliente está reportando artículos faltantes en su pedido y también está consultando sobre la disponibilidad de otros productos. El agente parece estar buscando en el sistema la información sobre los productos faltantes y tratando de resolver la situación.'}, {'Numero de llamada': 7, 'Tópico conversación': 'Basándome en la conversación proporcionada, el tópico predominante parece ser una consulta sobre una compra por internet y la logística de entrega, posiblemente relacionada con un envío a una dirección específica.'}, {'Numero de llamada': 8, 'Tópico conversación': 'La conversación parece estar centrada en un reclamo sobre un pedido que no ha sido entregado correctamente. El cliente expresa su frustración por la falta de comunicación y la falta de solución a su problema. Parece estar molesto por la situación y busca una solución rápida y efectiva.'}, {'Numero de llamada': 9, 'Tópico conversación': 'El tópico predominante de la conversación es el seguimiento de un pedido y la insatisfacción del cliente con el tiempo de entrega y la discriminación en la entrega a su dirección.'}]\n"
     ]
    },
    {
     "name": "stderr",
     "output_type": "stream",
     "text": [
      "\n"
     ]
    }
   ],
   "source": [
    "# PROCESAMIENTO DE CONVERSACIONES\n",
    "\n",
    "# Crea lista para almacenar el tópico predominante de cada conversación\n",
    "resultados = []\n",
    "\n",
    "# Define tamaño del lote de conversaciones a procesar y hasta qué conversación procesar para no saturar el servidor de la API de OpenAI (modificables)\n",
    "batch_size = 5\n",
    "numero_llamada = 10\n",
    "\n",
    "# Imprime mensaje antes de iniciar bucle\n",
    "print(f\"PROCESANDO CONVERSACIONES DE A LOTES DE A {batch_size} HASTA LA CONVERSACIÓN NÚMERO {numero_llamada}\\n\")\n",
    "\n",
    "# Itera sobre los lotes de conversaciones\n",
    "for i in tqdm(range(0, numero_llamada, batch_size)):\n",
    "# Para correr todas las conversaciones, reemplazamos por:\n",
    "# for i in tqdm(range(0, len(df_consolidado), batch_size)):\n",
    "\n",
    "    # Selecciona un lote de conversaciones para procesar\n",
    "    batch = df_consolidado.iloc[i:i+batch_size]\n",
    "\n",
    "    # Crea una lista para almacenar los prompts de cada conversación en el lote\n",
    "    prompts = []\n",
    "\n",
    "    # Itera sobre las conversaciones en el lote y crea un prompt para cada una\n",
    "    for index, (numero_llamada, conversacion) in enumerate(zip(batch['Numero_Llamada'], batch['Conversacion'])):\n",
    "\n",
    "        # Construye el prompt con el número de llamada y su conversación, y lo agrega a la lista\n",
    "        prompt = f\"Interpretá la llamada {numero_llamada} y proporcioná su tópico, sin repetir la palabra tópico:\\nConversación:\\n{conversacion}\\nRespuesta:\"\n",
    "        prompts.append(prompt)\n",
    "\n",
    "        # Actualiza el índice del número de llamada dentro del lote\n",
    "        numero_llamada = index + i\n",
    "\n",
    "    # Crea lista para almacenar las respuestas de ese lote\n",
    "    responses = []\n",
    "\n",
    "    # Genera respuestas para los prompts usando OpenAI API\n",
    "    for prompt in prompts:\n",
    "        response = openai.ChatCompletion.create(\n",
    "            model=\"gpt-3.5-turbo-1106\",\n",
    "            messages=[\n",
    "                {\"role\": \"system\", \"content\": \"Sos un modelo de IA que determina los tópicos predominantes en cada conversación entre un cliente y un agente de contact center\"},\n",
    "                {\"role\": \"user\", \"content\": prompt}\n",
    "            ],\n",
    "            max_tokens=150,  # Máximo de tokens generados\n",
    "            temperature=0.1,  # Temperatura baja para limitar creatividad\n",
    "            stop=\"\\n\",  # Frena la generación de texto cuando hay un salto de línea\n",
    "            n=1,  # Genera una respuesta por cada conversación en el lote\n",
    "        )\n",
    "\n",
    "        # Agrega cada respuesta a la lista de resultados\n",
    "        responses.append(response)\n",
    "\n",
    "\n",
    "    # Itera sobre los resultados generados para cada conversación en el lote procesado\n",
    "    for idx, (numero_llamada, response) in enumerate(zip(batch['Numero_Llamada'], responses)):\n",
    "\n",
    "        # Imprime el número de llamada y el tópico de la conversación correspondiente a medida que se generan\n",
    "        print(f\"Llamada: {numero_llamada}, Tópico conversación: {response.choices[0].message['content'].strip()}\")\n",
    "\n",
    "        # Agrega el resultado a la lista de resultados para luego poder manipular esa data de acuerdo a lo que necesite el cliente\n",
    "        resultados.append({\n",
    "            \"Numero de llamada\": numero_llamada,\n",
    "            \"Tópico conversación\": response.choices[0].message[\"content\"].strip()\n",
    "        })\n",
    "\n",
    "# Imprime la lista con los resultados de todos esos lotes \n",
    "# La lista facilita la posterior manipulación de los resultados, de acuerdo a lo que el cliente requiera\n",
    "print(\"\\nRESULTADOS LOTES\\n\",resultados)\n"
   ]
  }
 ],
 "metadata": {
  "kernelspec": {
   "display_name": "Python 3",
   "language": "python",
   "name": "python3"
  },
  "language_info": {
   "codemirror_mode": {
    "name": "ipython",
    "version": 3
   },
   "file_extension": ".py",
   "mimetype": "text/x-python",
   "name": "python",
   "nbconvert_exporter": "python",
   "pygments_lexer": "ipython3",
   "version": "3.11.2"
  },
  "orig_nbformat": 4
 },
 "nbformat": 4,
 "nbformat_minor": 2
}
